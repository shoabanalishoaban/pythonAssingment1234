{
 "cells": [
  {
   "cell_type": "code",
   "execution_count": 1,
   "id": "fb2c595e",
   "metadata": {},
   "outputs": [],
   "source": [
    "import pandas as pd\n",
    "import numpy as np\n"
   ]
  },
  {
   "cell_type": "markdown",
   "id": "1ace601b",
   "metadata": {},
   "source": [
    "# Task 1: Create a dictionary of city and their respective zip codes. Then ask zip code from user and provide the name of city."
   ]
  },
  {
   "cell_type": "code",
   "execution_count": 2,
   "id": "b53743a1",
   "metadata": {},
   "outputs": [
    {
     "name": "stdout",
     "output_type": "stream",
     "text": [
      "Enter Zipcod 69000\n",
      "Mirpurkhas\n"
     ]
    }
   ],
   "source": [
    "d={'69000':'Mirpurkhas', '1229':'Hyderabad','3445':'Karachi','667':'Lahor' }\n",
    "a=input(\"Enter Zipcod \")\n",
    "print(d[a])\n"
   ]
  },
  {
   "cell_type": "markdown",
   "id": "a9139c11",
   "metadata": {},
   "source": [
    "# task 2"
   ]
  },
  {
   "cell_type": "code",
   "execution_count": 12,
   "id": "9762377f",
   "metadata": {},
   "outputs": [
    {
     "data": {
      "text/html": [
       "<div>\n",
       "<style scoped>\n",
       "    .dataframe tbody tr th:only-of-type {\n",
       "        vertical-align: middle;\n",
       "    }\n",
       "\n",
       "    .dataframe tbody tr th {\n",
       "        vertical-align: top;\n",
       "    }\n",
       "\n",
       "    .dataframe thead th {\n",
       "        text-align: right;\n",
       "    }\n",
       "</style>\n",
       "<table border=\"1\" class=\"dataframe\">\n",
       "  <thead>\n",
       "    <tr style=\"text-align: right;\">\n",
       "      <th></th>\n",
       "      <th>name</th>\n",
       "      <th>first year marks</th>\n",
       "      <th>total Marks</th>\n",
       "      <th>average marks</th>\n",
       "    </tr>\n",
       "  </thead>\n",
       "  <tbody>\n",
       "    <tr>\n",
       "      <th>0</th>\n",
       "      <td>shoaban Ali</td>\n",
       "      <td>1250</td>\n",
       "      <td>1300</td>\n",
       "      <td>12.3</td>\n",
       "    </tr>\n",
       "    <tr>\n",
       "      <th>1</th>\n",
       "      <td>Waseem Ali</td>\n",
       "      <td>1050</td>\n",
       "      <td>1300</td>\n",
       "      <td>10.3</td>\n",
       "    </tr>\n",
       "    <tr>\n",
       "      <th>2</th>\n",
       "      <td>Anas</td>\n",
       "      <td>950</td>\n",
       "      <td>1300</td>\n",
       "      <td>9.3</td>\n",
       "    </tr>\n",
       "    <tr>\n",
       "      <th>3</th>\n",
       "      <td>Hamad</td>\n",
       "      <td>850</td>\n",
       "      <td>1300</td>\n",
       "      <td>8.3</td>\n",
       "    </tr>\n",
       "    <tr>\n",
       "      <th>4</th>\n",
       "      <td>Tahseen</td>\n",
       "      <td>750</td>\n",
       "      <td>1300</td>\n",
       "      <td>7.3</td>\n",
       "    </tr>\n",
       "  </tbody>\n",
       "</table>\n",
       "</div>"
      ],
      "text/plain": [
       "          name first year marks  total Marks  average marks\n",
       "0  shoaban Ali             1250         1300           12.3\n",
       "1   Waseem Ali             1050         1300           10.3\n",
       "2         Anas              950         1300            9.3\n",
       "3        Hamad              850         1300            8.3\n",
       "4      Tahseen              750         1300            7.3"
      ]
     },
     "execution_count": 12,
     "metadata": {},
     "output_type": "execute_result"
    }
   ],
   "source": [
    "data = { 'name' : ['shoaban Ali', 'Waseem Ali', 'Anas','Hamad','Tahseen'],\n",
    "'first year marks' : ['1250', '1050', '950','850','750'],\n",
    "'total Marks' : [1300, 1300, 1300,1300,1300],\n",
    "'average marks' : [12.3, 10.3, 9.3,8.3,7.3]\n",
    "}\n",
    "\n",
    "df = pd.DataFrame(data)\n",
    "df"
   ]
  },
  {
   "cell_type": "code",
   "execution_count": null,
   "id": "e4aade7f",
   "metadata": {},
   "outputs": [],
   "source": []
  }
 ],
 "metadata": {
  "kernelspec": {
   "display_name": "Python 3 (ipykernel)",
   "language": "python",
   "name": "python3"
  },
  "language_info": {
   "codemirror_mode": {
    "name": "ipython",
    "version": 3
   },
   "file_extension": ".py",
   "mimetype": "text/x-python",
   "name": "python",
   "nbconvert_exporter": "python",
   "pygments_lexer": "ipython3",
   "version": "3.9.12"
  }
 },
 "nbformat": 4,
 "nbformat_minor": 5
}
